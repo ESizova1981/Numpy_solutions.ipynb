#a. Импорт библиотеки NumPy
import numpy as np
#b. Массив из 10 нулей
a=np.zeros(10)
#c. Массив из 10 единиц
b=np.ones(10)
#d. Массив из 10 пятерок
c=np.linspace(5, 5, 10)
#e. Массив из целых чисел от 10 до 50
d=np.arange(10, 51, 1)
#f. массив из четных чисел от 10 до 50
dd=np.arange(10, 51, 2)
#g. Матрица 3х3 с числами от 0 до 8
mat=np.arange(0,9).reshape(3,3)
#h. Единичная матрица 3x3
ones=np.eye(3)
#i. Генерация случайного числа от 0 до 1
a1=np.random.rand()
#j. Генерация массива из 25 случайных чисел,взятых из стандартного нормального распределения
a2=np.random.randn(25)
#k. 
mat1=np.arange(0.01, 1.01, 0.01).reshape(10,10)
#l Стартовая матрица
mat = np.arange(1,26).reshape(5,5)
print(mat[2:,1:])
#m Код возвращения значения 20 из стартовой матрицы
print(mat[3][4])
#n 
print(mat[0:3,1].reshape(3,1))
#o
print(mat[4])
#p
print(mat[3:])
#q
print(mat.sum())
#r
print(mat.std())
#s
print(mat.sum(axis=0))
print(mat.sum(axis=1))
